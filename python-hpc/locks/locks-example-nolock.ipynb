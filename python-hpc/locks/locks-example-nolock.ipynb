{
 "cells": [
  {
   "cell_type": "code",
   "execution_count": null,
   "metadata": {},
   "outputs": [],
   "source": [
    "import time\n",
    "import threading"
   ]
  },
  {
   "cell_type": "code",
   "execution_count": null,
   "metadata": {},
   "outputs": [],
   "source": [
    "def function1():\n",
    "    color = '\\033[91m'  # red\n",
    "    for i in range(10):\n",
    "        for word in ['Hello', 'from', 'the', 'first', 'function\\n']:\n",
    "            time.sleep(1e-5)\n",
    "            print(f' {color}{word}', end='')\n",
    "\n",
    "def function2():\n",
    "    color = '\\033[92m'  # green\n",
    "    for i in range(10):\n",
    "        for word in ['Hello', 'from', 'the', 'second', 'function\\n']:\n",
    "            time.sleep(1e-5)\n",
    "            print(f' {color}{word}', end='')"
   ]
  },
  {
   "cell_type": "code",
   "execution_count": null,
   "metadata": {},
   "outputs": [],
   "source": [
    "thread_1 = threading.Thread(target=function1)\n",
    "thread_2 = threading.Thread(target=function2)\n",
    "\n",
    "thread_1.start()\n",
    "thread_2.start()\n",
    "\n",
    "thread_1.join()\n",
    "thread_2.join()"
   ]
  }
 ],
 "metadata": {
  "kernelspec": {
   "display_name": "hpcpython2022",
   "language": "python",
   "name": "hpcpython2022"
  },
  "language_info": {
   "codemirror_mode": {
    "name": "ipython",
    "version": 3
   },
   "file_extension": ".py",
   "mimetype": "text/x-python",
   "name": "python",
   "nbconvert_exporter": "python",
   "pygments_lexer": "ipython3",
   "version": "3.9.4"
  }
 },
 "nbformat": 4,
 "nbformat_minor": 4
}
